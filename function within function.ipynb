{
 "cells": [
  {
   "cell_type": "code",
   "execution_count": 1,
   "id": "60c97cb7-ce36-4ffb-8188-5cac0d49b62a",
   "metadata": {},
   "outputs": [
    {
     "name": "stdout",
     "output_type": "stream",
     "text": [
      "This is a outer function .....\n",
      "This is an inner function......\n"
     ]
    }
   ],
   "source": [
    "def outer():\n",
    "    print(\"This is a outer function .....\")\n",
    "    def inner():\n",
    "        print(\"This is an inner function......\")\n",
    "    inner()\n",
    "outer()"
   ]
  }
 ],
 "metadata": {
  "kernelspec": {
   "display_name": "Python 3 (ipykernel)",
   "language": "python",
   "name": "python3"
  },
  "language_info": {
   "codemirror_mode": {
    "name": "ipython",
    "version": 3
   },
   "file_extension": ".py",
   "mimetype": "text/x-python",
   "name": "python",
   "nbconvert_exporter": "python",
   "pygments_lexer": "ipython3",
   "version": "3.12.7"
  }
 },
 "nbformat": 4,
 "nbformat_minor": 5
}
