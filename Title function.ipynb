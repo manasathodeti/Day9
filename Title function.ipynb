{
 "cells": [
  {
   "cell_type": "code",
   "execution_count": 7,
   "id": "7015f7f0-bffe-4c08-b478-feabf954b65a",
   "metadata": {},
   "outputs": [
    {
     "name": "stdout",
     "output_type": "stream",
     "text": [
      "Hello,Ms.Manasa\n",
      "Hello,Dr.Malyadri\n"
     ]
    }
   ],
   "source": [
    "def titled(title):\n",
    "    def greet(name):\n",
    "        return f\"Hello,{title}{name}\"\n",
    "    return greet\n",
    "ms_greet=titled(\"Ms.\")\n",
    "dr_greet=titled(\"Dr.\")\n",
    "print(ms_greet(\"Manasa\"))\n",
    "print(dr_greet(\"Malyadri\"))"
   ]
  }
 ],
 "metadata": {
  "kernelspec": {
   "display_name": "Python 3 (ipykernel)",
   "language": "python",
   "name": "python3"
  },
  "language_info": {
   "codemirror_mode": {
    "name": "ipython",
    "version": 3
   },
   "file_extension": ".py",
   "mimetype": "text/x-python",
   "name": "python",
   "nbconvert_exporter": "python",
   "pygments_lexer": "ipython3",
   "version": "3.12.7"
  }
 },
 "nbformat": 4,
 "nbformat_minor": 5
}
