{
 "cells": [
  {
   "cell_type": "code",
   "execution_count": 9,
   "id": "864fd780-41f4-477c-aaf6-9013c015d020",
   "metadata": {},
   "outputs": [
    {
     "name": "stdin",
     "output_type": "stream",
     "text": [
      "Enter marks for a subject: 89\n"
     ]
    },
    {
     "name": "stdout",
     "output_type": "stream",
     "text": [
      "subject 1 marks: 89\n"
     ]
    },
    {
     "name": "stdin",
     "output_type": "stream",
     "text": [
      "Enter marks for a subject: 98\n"
     ]
    },
    {
     "name": "stdout",
     "output_type": "stream",
     "text": [
      "subject 2 marks: 98\n"
     ]
    },
    {
     "name": "stdin",
     "output_type": "stream",
     "text": [
      "Enter marks for a subject: 88\n"
     ]
    },
    {
     "name": "stdout",
     "output_type": "stream",
     "text": [
      "subject 3 marks: 88\n",
      "All subject marks [89, 98, 88]\n",
      "Total marks 275\n",
      "Average 275.0\n"
     ]
    }
   ],
   "source": [
    "subject_marks=[]\n",
    "def add_subject_marks():\n",
    "    mark=int(input(\"Enter marks for a subject:\"))\n",
    "    subject_marks.append(mark)\n",
    "    return mark\n",
    "print(\"subject 1 marks:\",add_subject_marks())\n",
    "print(\"subject 2 marks:\",add_subject_marks())\n",
    "print(\"subject 3 marks:\",add_subject_marks())\n",
    "print(\"All subject marks\",subject_marks)\n",
    "total=sum(subject_marks)\n",
    "l=len(subject_marks)\n",
    "avg=total/1\n",
    "print(\"Total marks\",total)\n",
    "print(\"Average\",avg)"
   ]
  }
 ],
 "metadata": {
  "kernelspec": {
   "display_name": "Python 3 (ipykernel)",
   "language": "python",
   "name": "python3"
  },
  "language_info": {
   "codemirror_mode": {
    "name": "ipython",
    "version": 3
   },
   "file_extension": ".py",
   "mimetype": "text/x-python",
   "name": "python",
   "nbconvert_exporter": "python",
   "pygments_lexer": "ipython3",
   "version": "3.12.7"
  }
 },
 "nbformat": 4,
 "nbformat_minor": 5
}
