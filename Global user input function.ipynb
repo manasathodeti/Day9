{
 "cells": [
  {
   "cell_type": "code",
   "execution_count": 3,
   "id": "b5c7f914-f66d-4973-bc0a-1bbb01e6057f",
   "metadata": {},
   "outputs": [
    {
     "name": "stdin",
     "output_type": "stream",
     "text": [
      "Enter marks of a subject: 88\n"
     ]
    },
    {
     "name": "stdout",
     "output_type": "stream",
     "text": [
      "Subject1 marks: 88\n"
     ]
    },
    {
     "name": "stdin",
     "output_type": "stream",
     "text": [
      "Enter marks of a subject: 90\n"
     ]
    },
    {
     "name": "stdout",
     "output_type": "stream",
     "text": [
      "Subject2 marks: 90\n"
     ]
    },
    {
     "name": "stdin",
     "output_type": "stream",
     "text": [
      "Enter marks of a subject: 93\n"
     ]
    },
    {
     "name": "stdout",
     "output_type": "stream",
     "text": [
      "Subject2 marks: 93\n",
      "Total marks stored in global: 271\n"
     ]
    }
   ],
   "source": [
    "total=0\n",
    "def add_subject_marks():\n",
    "    global total\n",
    "    marks=int(input(\"Enter marks of a subject:\"))\n",
    "    total+=marks\n",
    "    return marks\n",
    "print(\"Subject1 marks:\",add_subject_marks())\n",
    "print(\"Subject2 marks:\",add_subject_marks())\n",
    "print(\"Subject2 marks:\",add_subject_marks())\n",
    "print(\"Total marks stored in global:\",total)"
   ]
  }
 ],
 "metadata": {
  "kernelspec": {
   "display_name": "Python 3 (ipykernel)",
   "language": "python",
   "name": "python3"
  },
  "language_info": {
   "codemirror_mode": {
    "name": "ipython",
    "version": 3
   },
   "file_extension": ".py",
   "mimetype": "text/x-python",
   "name": "python",
   "nbconvert_exporter": "python",
   "pygments_lexer": "ipython3",
   "version": "3.12.7"
  }
 },
 "nbformat": 4,
 "nbformat_minor": 5
}
